{
  "nbformat": 4,
  "nbformat_minor": 0,
  "metadata": {
    "colab": {
      "name": "MBAN 6500 Assignment 1_Xiao Kuang.ipynb",
      "provenance": [],
      "collapsed_sections": []
    },
    "kernelspec": {
      "name": "python3",
      "display_name": "Python 3"
    }
  },
  "cells": [
    {
      "cell_type": "code",
      "metadata": {
        "colab": {
          "base_uri": "https://localhost:8080/"
        },
        "id": "os_Pv26SGm-o",
        "outputId": "a7b43809-09e5-4059-e8ee-6fc2a85ca496"
      },
      "source": [
        "! pip install experta"
      ],
      "execution_count": 34,
      "outputs": [
        {
          "output_type": "stream",
          "text": [
            "Collecting experta\n",
            "  Downloading https://files.pythonhosted.org/packages/03/5d/c06fad9dadbec34d95f548bca648ec0de2afd6f8eb2247194150ad38ee8f/experta-1.9.4-py3-none-any.whl\n",
            "Collecting schema==0.6.7\n",
            "  Downloading https://files.pythonhosted.org/packages/5d/42/32c059aa876eb16521a292e634d18f25408b2441862ff823f59af273d720/schema-0.6.7-py2.py3-none-any.whl\n",
            "Collecting frozendict==1.2\n",
            "  Downloading https://files.pythonhosted.org/packages/4e/55/a12ded2c426a4d2bee73f88304c9c08ebbdbadb82569ebdd6a0c007cfd08/frozendict-1.2.tar.gz\n",
            "Building wheels for collected packages: frozendict\n",
            "  Building wheel for frozendict (setup.py) ... \u001b[?25l\u001b[?25hdone\n",
            "  Created wheel for frozendict: filename=frozendict-1.2-cp36-none-any.whl size=3149 sha256=17bd6f2fa2dac67fa9c92d6190ae10977c4c7d48061b3dbc9fca1af33c06b34f\n",
            "  Stored in directory: /root/.cache/pip/wheels/6c/6c/e9/534386165bd12cf1885582c75eb6d0ffcb321b65c23fe0f834\n",
            "Successfully built frozendict\n",
            "Installing collected packages: schema, frozendict, experta\n",
            "Successfully installed experta-1.9.4 frozendict-1.2 schema-0.6.7\n"
          ],
          "name": "stdout"
        }
      ]
    },
    {
      "cell_type": "code",
      "metadata": {
        "id": "elnwzqy7GuEp"
      },
      "source": [
        "from experta import *\n",
        "from random import choice\n",
        "import numpy as np\n"
      ],
      "execution_count": 35,
      "outputs": []
    },
    {
      "cell_type": "code",
      "metadata": {
        "colab": {
          "base_uri": "https://localhost:8080/"
        },
        "id": "xVwa4UCtHYz6",
        "outputId": "e06996f8-c171-4ab3-b510-82b9b52b130b"
      },
      "source": [
        "\"\"\"\n",
        "Implement an ES that tells whether an animal is a bird, mammal, or unknown. It should\n",
        "require two percepts/declarations: cover and wings. The former can take one of two values,\n",
        "\"fur\" or \"feathers\", and the latter True or False. Given the declarations cover =\n",
        "\"feathers\" and wings = True, it should print \"bird\". Similarly, given cover = \"fur\" and\n",
        "wings = True, it should print \"mammal\", since a bat has wing and is a mammal. For cover\n",
        "= \"feathers\" and wings = False it should print \"unknown\" (since I don’t know of any\n",
        "wingless bird).\n",
        "\"\"\"\n",
        "class Animail_Classification(KnowledgeEngine):\n",
        "  @Rule(Cover(Cover='Fur'),AS.Wings << Wings(Wings=L('Yes')|L('No')))\n",
        "  def Mammal(self):\n",
        "    print('Mammal')\n",
        "  @Rule(Cover(Cover='Feathers'),Wings(Wings='Yes'))\n",
        "  def Bird(self):\n",
        "    print('Bird')\n",
        "  @Rule(Cover(Cover='Feathers'),Wings(Wings='No'))\n",
        "  def Unknown(self):\n",
        "    print('Unknown Species')\n",
        "\n",
        "engine = Animail_Classification()\n",
        "engine.reset()\n",
        "Cover_options = choice(['Fur','Feathers'])\n",
        "Wings_options = choice(['Yes','No'])\n",
        "engine.declare(Cover(Cover=Cover_options),Wings(Wings=Wings_options))\n",
        "print(engine.facts)\n",
        "engine.run()"
      ],
      "execution_count": 17,
      "outputs": [
        {
          "output_type": "stream",
          "text": [
            "<f-0>: InitialFact()\n",
            "<f-1>: Cover(Cover='Fur')\n",
            "<f-2>: Wings(Wings='Yes')\n",
            "Mammal\n"
          ],
          "name": "stdout"
        }
      ]
    },
    {
      "cell_type": "code",
      "metadata": {
        "colab": {
          "base_uri": "https://localhost:8080/"
        },
        "id": "2a7IgYhJR4Wu",
        "outputId": "36986cd5-0d32-4ecb-94e2-61f152c58cae"
      },
      "source": [
        "\"\"\"\n",
        "2.Implement an AnimalIdentifier. Given some suitable number of declarations, this ES\n",
        "should be able to classify an animal into the following categories: \"protozoa\" (a single cell\n",
        "animal), \"invertebrate\", \"fish\", \"bird\", \"mammal\" or \"unknown\".\n",
        "\"\"\"\n",
        "class AnimalIdentifier(KnowledgeEngine):\n",
        "    @DefFacts()\n",
        "    def _initial_action(self):\n",
        "        yield Fact(action=\"Identify\")\n",
        "    @Rule(Fact(action='Identify'),\n",
        "          NOT(Fact(answer_1=W())))\n",
        "    def question_1(self):\n",
        "        self.declare(Fact(answer_1=input(\"Is it Single cell or Multi cells? Print S or M.\")))\n",
        "    @Rule(Fact(action=\"Identify\"),Fact(answer_1=\"S\"))\n",
        "    def protozoa(self):\n",
        "      print(\"The living creature belongs to protozoa\")\n",
        "    @Rule(Fact(action=\"Identify\"),Fact(answer_1=\"M\"))\n",
        "    def question_2(self):\n",
        "      self.declare(Fact(answer_2=input(\"Does it have backbone or not? Print Y or N\")))\n",
        "    @Rule(Fact(action=\"Identify\"),Fact(answer_1=\"M\"),Fact(answer_2=\"N\"))\n",
        "    def invertebrate(self):\n",
        "      print(\"The living creature belongs to invertebrate\")\n",
        "    @Rule(Fact(action=\"Identify\"),Fact(answer_1=\"M\"),Fact(answer_2=\"Y\"))\n",
        "    def question_3(self):\n",
        "      self.declare(Fact(answer_3=input(\"Does it use gill to breath? Print Y or N\")))\n",
        "    @Rule(Fact(action=\"Identify\"),Fact(answer_1=\"M\"),Fact(answer_2=\"Y\"),Fact(answer_3=\"Y\"))\n",
        "    def fish(self):\n",
        "      print(\"The living creature belongs to fish\")\n",
        "    @Rule(Fact(action=\"Identify\"),Fact(answer_1=\"M\"),Fact(answer_2=\"Y\"),Fact(answer_3=\"N\"))\n",
        "    def question_4(self):\n",
        "      self.declare(Fact(answer_4=input(\"Does it have wings or not? Print Y or N\"))) \n",
        "      self.declare(Fact(answer_5=input(\"Is it covered with feather or fur? Print FE for feather or FU for fur\"))) \n",
        "    @Rule(Fact(action=\"Identify\"),Fact(answer_1=\"M\"),Fact(answer_2=\"Y\"),Fact(answer_3=\"N\"),Fact(answer_4=\"Y\"),Fact(answer_5=\"FE\"))\n",
        "    def bird(self):\n",
        "      print(\"The living creature belongs to bird\")\n",
        "    @Rule(Fact(action=\"Identify\"),Fact(answer_1=\"M\"),Fact(answer_2=\"Y\"),Fact(answer_3=\"N\"),Fact(answer_4=L(\"Y\")|L(\"N\")),Fact(answer_5=\"FU\"))\n",
        "    def mammal(self):\n",
        "      print(\"The living creature belongs to mammal\")\n",
        "    @Rule(Fact(action=\"Identify\"),Fact(answer_1=\"M\"),Fact(answer_2=\"Y\"),Fact(answer_3=\"N\"),Fact(answer_4=\"N\"),Fact(answer_5=\"FE\"))\n",
        "    def unknown(self):\n",
        "     print(\"You discovered an unknown species!\")\n",
        "engine = AnimalIdentifier()\n",
        "engine.reset()\n",
        "engine.run()"
      ],
      "execution_count": 22,
      "outputs": [
        {
          "output_type": "stream",
          "text": [
            "Is it Single cell or Multi cells? Print S or M.M\n",
            "Does it have backbone or not? Print Y or NY\n",
            "Does it use gill to breath? Print Y or NN\n",
            "Does it have wings or not? Print Y or NY\n",
            "Is it covered with feather or fur? Print FE for feather or FU for furFU\n",
            "The living creature belongs to mammal\n"
          ],
          "name": "stdout"
        }
      ]
    },
    {
      "cell_type": "code",
      "metadata": {
        "colab": {
          "base_uri": "https://localhost:8080/",
          "height": 355
        },
        "id": "MK0fffoySY4B",
        "outputId": "10aa73c8-ceff-4cc3-fc52-45bd7b93855f"
      },
      "source": [
        "\"\"\"\n",
        "Implement an ES that can answer questions about a topic of your own interest. Include an\n",
        "explanation and description of its intended behavior as a comment.\n",
        "\"\"\"\n",
        "class driver(Fact):\n",
        "  name = Field(str)\n",
        "  age = Field(float)\n",
        "  price = Field(float)\n",
        "  commute_distance = Field(float)\n",
        "  offence_points = Field(float)\n",
        "  credit_score = Field(float,default=700)\n",
        "class age_risk_factor(Fact):\n",
        "  name = Field(str)\n",
        "  percentage = Field(int)\n",
        "class price_risk_factor(Fact):\n",
        "  name = Field(str)\n",
        "  percentage = Field(int) \n",
        "class commute_risk_factor(Fact):\n",
        "  name = Field(str)\n",
        "  percentage = Field(int) \n",
        "class offence_risk_factor(Fact):\n",
        "  name = Field(str)\n",
        "  percentage = Field(int) \n",
        "class credit_risk_factor(Fact):\n",
        "  name = Field(str)\n",
        "  percentage = Field(int) \n",
        "class insurance_premium(Fact):\n",
        "  name = Field(str)\n",
        "  premium = Field(int)   \n",
        "\n",
        "class credit_calculate(KnowledgeEngine):\n",
        "  \n",
        "  @Rule(driver(AS.age << (age<=18|age>=75)))\n",
        "  def age_risk_factor_1():\n",
        "    self.declare(age_risk_factor(name=Match.name,percentage=5))\n",
        "  \n",
        "  @Rule(driver(18<age<75))\n",
        "  def age_risk_factor_2(): \n",
        "    self.declare(age_risk_factor(name=Match.name,percentage=0))\n",
        "\n",
        "  @Rule(driver(price <= 5000))\n",
        "  def price_risk_factor_1():\n",
        "    self.declare(price_risk_factor(name=Match.name,percentage=0))\n",
        "\n",
        "  @Rule(driver(5000<price<20000))\n",
        "  def price_risk_factor_2():\n",
        "    self.declare(price_risk_factor(name=Match.name,percentage=5))\n",
        "\n",
        "  @Rule(driver(price >= 20000))\n",
        "  def price_risk_factor_3():\n",
        "    self.declare(price_risk_factor(name=Match.name,percentage=10))\t\n",
        "\n",
        "  @Rule(driver(commute_distance <= 20))\n",
        "  def commute_risk_factor_1():\n",
        "    self.declare(commute_risk_factor(name=Match.name,percentage=0))\t\n",
        "\n",
        "  @Rule(driver(20<commute_distance<50))\n",
        "  def commute_risk_factor_2():\n",
        "    self.declare(commute_risk_factor(name=Match.name,percentage=2))\t\n",
        "\n",
        "  @Rule(driver(commute_distance>=50))\n",
        "  def commute_risk_factor_3():\n",
        "    self.declare(commute_risk_factor(name=Match.name,percentage=5))\n",
        "\n",
        "  @Rule(driver(offence_points<=10))\n",
        "  def offence_risk_factor_1():\n",
        "    self.declare(offence_risk_factor(name=Match.name,percentage=0))\n",
        "\n",
        "  @Rule(driver(10<offence_points<20))\n",
        "  def offence_risk_factor_2():\n",
        "    self.declare(offence_risk_factor(name=Match.name,percentage=2))\n",
        "      \n",
        "  @Rule(driver(offence_points>=20))\n",
        "  def offence_risk_factor_3():\n",
        "    self.declare(offence_risk_factor(name=Match.name,percentage=10))\n",
        "\n",
        "  @Rule(driver(credit_score>700))\n",
        "  def credit_risk_factor_1():\n",
        "    self.declare(credit_risk_factor(name=Match.name,percentage=0))\n",
        "      \n",
        "  @Rule(driver(600<=credit_score<=700))\n",
        "  def credit_risk_factor_2():\n",
        "    self.declare(credit_risk_factor(name=Match.name,percentage=2))\n",
        "\n",
        "  @Rule(driver(credit_score<=600))\n",
        "  def credit_risk_factor_1():\n",
        "    self.declare(credit_risk_factor(name=Match.name,percentage=5))\t\n",
        "\n",
        "  @Rule(age_risk_factor(name=Match.name),price_risk_factor(name=Match.name),commute_risk_factor(name=Match.name),\n",
        "        offence_risk_factor(name=Match.name),credit_risk_factor(name=Match.name)) \n",
        "  def total_average_risk(age_risk_factor,price_risk_factor,commute_risk_factor,offence_risk_factor,credit_risk_factor):\n",
        "    total = (age_risk_factor[\"percentage\"] + price_risk_factor[\"percentage\"] + commute_risk_factor[\"percentage\"]+\n",
        "             offence_risk_factor[\"percentage\"] + credit_risk_factor[\"percentage\"])/5\n",
        "    premium = 700 * (1+total) \n",
        "    self.declare(insurance_premium(name=match.name,premium=Match.premium))\n",
        "    print(\"The Insurance Premium of \",Match.name,\"is\",insurance_premium[\"premium\"])\n",
        "\n",
        "name_options = choice(['Amy','Bob','Cindy','Doug'])\n",
        "age_options = np.random.randint(18,80)\n",
        "price_options = np.random.randint(2000,100000)\n",
        "commute_distance_options = np.random.randint(0,200)\n",
        "offence_points_options = np.random.randint(0,20)\n",
        "credit_score_options = np.random.randint(0,800)\n",
        "\n",
        "engine = credit_calculate()\n",
        "engine.reset()\n",
        "engine.declare(driver(name=name_options,age=age_options,price=price_options,commute_distance=commute_distance_options,\n",
        "                      offence_points=offence_points_options,credit_score=credit_score_options))\n",
        "print(engine.facts)\n",
        "engine.run()\n",
        "\n"
      ],
      "execution_count": 45,
      "outputs": [
        {
          "output_type": "error",
          "ename": "NameError",
          "evalue": "ignored",
          "traceback": [
            "\u001b[0;31m---------------------------------------------------------------------------\u001b[0m",
            "\u001b[0;31mNameError\u001b[0m                                 Traceback (most recent call last)",
            "\u001b[0;32m<ipython-input-45-0a7e1827a582>\u001b[0m in \u001b[0;36m<module>\u001b[0;34m()\u001b[0m\n\u001b[1;32m     29\u001b[0m   \u001b[0mpremium\u001b[0m \u001b[0;34m=\u001b[0m \u001b[0mField\u001b[0m\u001b[0;34m(\u001b[0m\u001b[0mint\u001b[0m\u001b[0;34m)\u001b[0m\u001b[0;34m\u001b[0m\u001b[0;34m\u001b[0m\u001b[0m\n\u001b[1;32m     30\u001b[0m \u001b[0;34m\u001b[0m\u001b[0m\n\u001b[0;32m---> 31\u001b[0;31m \u001b[0;32mclass\u001b[0m \u001b[0mcredit_calculate\u001b[0m\u001b[0;34m(\u001b[0m\u001b[0mKnowledgeEngine\u001b[0m\u001b[0;34m)\u001b[0m\u001b[0;34m:\u001b[0m\u001b[0;34m\u001b[0m\u001b[0;34m\u001b[0m\u001b[0m\n\u001b[0m\u001b[1;32m     32\u001b[0m \u001b[0;34m\u001b[0m\u001b[0m\n\u001b[1;32m     33\u001b[0m   \u001b[0;34m@\u001b[0m\u001b[0mRule\u001b[0m\u001b[0;34m(\u001b[0m\u001b[0mdriver\u001b[0m\u001b[0;34m(\u001b[0m\u001b[0mAS\u001b[0m\u001b[0;34m.\u001b[0m\u001b[0mage\u001b[0m \u001b[0;34m<<\u001b[0m \u001b[0;34m(\u001b[0m\u001b[0mage\u001b[0m\u001b[0;34m<=\u001b[0m\u001b[0;36m18\u001b[0m\u001b[0;34m|\u001b[0m\u001b[0mage\u001b[0m\u001b[0;34m>=\u001b[0m\u001b[0;36m75\u001b[0m\u001b[0;34m)\u001b[0m\u001b[0;34m)\u001b[0m\u001b[0;34m)\u001b[0m\u001b[0;34m\u001b[0m\u001b[0;34m\u001b[0m\u001b[0m\n",
            "\u001b[0;32m<ipython-input-45-0a7e1827a582>\u001b[0m in \u001b[0;36mcredit_calculate\u001b[0;34m()\u001b[0m\n\u001b[1;32m     31\u001b[0m \u001b[0;32mclass\u001b[0m \u001b[0mcredit_calculate\u001b[0m\u001b[0;34m(\u001b[0m\u001b[0mKnowledgeEngine\u001b[0m\u001b[0;34m)\u001b[0m\u001b[0;34m:\u001b[0m\u001b[0;34m\u001b[0m\u001b[0;34m\u001b[0m\u001b[0m\n\u001b[1;32m     32\u001b[0m \u001b[0;34m\u001b[0m\u001b[0m\n\u001b[0;32m---> 33\u001b[0;31m   \u001b[0;34m@\u001b[0m\u001b[0mRule\u001b[0m\u001b[0;34m(\u001b[0m\u001b[0mdriver\u001b[0m\u001b[0;34m(\u001b[0m\u001b[0mAS\u001b[0m\u001b[0;34m.\u001b[0m\u001b[0mage\u001b[0m \u001b[0;34m<<\u001b[0m \u001b[0;34m(\u001b[0m\u001b[0mage\u001b[0m\u001b[0;34m<=\u001b[0m\u001b[0;36m18\u001b[0m\u001b[0;34m|\u001b[0m\u001b[0mage\u001b[0m\u001b[0;34m>=\u001b[0m\u001b[0;36m75\u001b[0m\u001b[0;34m)\u001b[0m\u001b[0;34m)\u001b[0m\u001b[0;34m)\u001b[0m\u001b[0;34m\u001b[0m\u001b[0;34m\u001b[0m\u001b[0m\n\u001b[0m\u001b[1;32m     34\u001b[0m   \u001b[0;32mdef\u001b[0m \u001b[0mage_risk_factor_1\u001b[0m\u001b[0;34m(\u001b[0m\u001b[0;34m)\u001b[0m\u001b[0;34m:\u001b[0m\u001b[0;34m\u001b[0m\u001b[0;34m\u001b[0m\u001b[0m\n\u001b[1;32m     35\u001b[0m     \u001b[0mself\u001b[0m\u001b[0;34m.\u001b[0m\u001b[0mdeclare\u001b[0m\u001b[0;34m(\u001b[0m\u001b[0mage_risk_factor\u001b[0m\u001b[0;34m(\u001b[0m\u001b[0mname\u001b[0m\u001b[0;34m=\u001b[0m\u001b[0mMatch\u001b[0m\u001b[0;34m.\u001b[0m\u001b[0mname\u001b[0m\u001b[0;34m,\u001b[0m\u001b[0mpercentage\u001b[0m\u001b[0;34m=\u001b[0m\u001b[0;36m5\u001b[0m\u001b[0;34m)\u001b[0m\u001b[0;34m)\u001b[0m\u001b[0;34m\u001b[0m\u001b[0;34m\u001b[0m\u001b[0m\n",
            "\u001b[0;31mNameError\u001b[0m: name 'age' is not defined"
          ]
        }
      ]
    }
  ]
}